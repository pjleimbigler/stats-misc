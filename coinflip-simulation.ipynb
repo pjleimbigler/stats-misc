{
 "cells": [
  {
   "cell_type": "markdown",
   "metadata": {},
   "source": [
    "# Coinflip Simulation\n",
    "\n",
    "Consider a fair coin that always gives either heads or tails on each flip with equal probability. Assume (reasonably) that each flip is an independent event, meaning that the outcome of one flip does not influence the probability of any other flips. Flip this coin *N* times, and save the results. Then comb through the results and find \"streaks\" of *S* consecutive heads, and record the result of the flip immediately following the streak. **Question:** what's the probability of getting heads after *S* heads in a row? The purpose of this notebook is to demonstrate explicitly that the answer is 0.5."
   ]
  },
  {
   "cell_type": "code",
   "execution_count": 1,
   "metadata": {
    "collapsed": true
   },
   "outputs": [],
   "source": [
    "import numpy as np\n",
    "import matplotlib.pyplot as plt\n",
    "%matplotlib inline"
   ]
  },
  {
   "cell_type": "code",
   "execution_count": 2,
   "metadata": {
    "collapsed": true
   },
   "outputs": [],
   "source": [
    "N = 1000000\n",
    "S = 8 # look for streaks of this many heads in a row\n",
    "# Seed the random number gen for repeatability.\n",
    "# Change the seed value for different random outcomes\n",
    "np.random.seed(314159)"
   ]
  },
  {
   "cell_type": "code",
   "execution_count": 3,
   "metadata": {
    "collapsed": true
   },
   "outputs": [],
   "source": [
    "data = np.random.randint(low=0, high=2, size=N) # Generate a length-N numpy array of random 1s and 0s"
   ]
  },
  {
   "cell_type": "code",
   "execution_count": 4,
   "metadata": {
    "collapsed": true
   },
   "outputs": [],
   "source": [
    "streak = np.array([1]*S)"
   ]
  },
  {
   "cell_type": "code",
   "execution_count": 5,
   "metadata": {},
   "outputs": [
    {
     "name": "stdout",
     "output_type": "stream",
     "text": [
      "Flipping a coin 1000000 times resulted in 4044 streaks of 8 heads in a row.\n"
     ]
    }
   ],
   "source": [
    "# Get a list of indexes of the first element of each streak\n",
    "streak_starts = np.where(np.convolve(data, streak, mode='valid') == streak.sum())[0]\n",
    "print 'Flipping a coin %d times \\\n",
    "resulted in %d streaks of %d \\\n",
    "heads in a row.' % (N, len(streak_starts), S)"
   ]
  },
  {
   "cell_type": "markdown",
   "metadata": {},
   "source": [
    "### Aside: convolution \n",
    "The one-liner in the previous cell uses [convolution](https://en.wikipedia.org/wiki/Convolution) to extract the index of the first member of each streak of heads. It comes from this thread:\n",
    "https://stackoverflow.com/questions/14890216/return-the-indexes-of-a-sub-array-in-an-array\n",
    "\n",
    "The solutions that use `numpy`'s `as_strided()` look cool, but they're more esoteric\n",
    "and `numpy`-specific. Check out the warnings in the docs:\n",
    "https://docs.scipy.org/doc/numpy-1.13.0/reference/generated/numpy.lib.stride_tricks.as_strided.html\n",
    "\n",
    "**Note on `mode='valid'`:** this tells `convolve()` to return the convolution product only when\n",
    "both signals overlap completely. The default `mode='full'` returns results from partial overlap, introducing edge effects that we need to reject. Concrete example: consider arrays A and B of lengths\n",
    "100 and 7 respectively. Then `len(np.convolve(A, B, mode='full'))` is 106, whereas `len(np.convolve(A, B, mode='valid'))` is 94.\n",
    "\n",
    "In our problem of counting streaks of 1s in an array, `mode='valid'` ensures that if\n",
    "a streak occurs at the very start of the array, its index will be stored in `streak_starts` as 0.\n",
    "\n",
    "Link to `numpy.convolve` docs:\n",
    "https://docs.scipy.org/doc/numpy-1.13.0/reference/generated/numpy.convolve.html\n",
    "### End aside"
   ]
  },
  {
   "cell_type": "code",
   "execution_count": 6,
   "metadata": {
    "collapsed": true
   },
   "outputs": [],
   "source": [
    "# Save the outcome immediately following each streak.\n",
    "# Careful about off-by-one errors here. For an\n",
    "# example of a streak of length S=5:\n",
    "# index:                i   i+1  i+2  i+3  i+4  i+5\n",
    "# array:    ...,   0,   1,   1,   1,   1,   1,   0,   1, ...\n",
    "# \n",
    "# The above diagram should convince you that if a streak\n",
    "# starts at index i, then the element immediately following\n",
    "# that streak in fact has index i + S, not i + S - 1 or something.\n",
    "#\n",
    "post_streak_outcomes = [data[i+S] for i in streak_starts]"
   ]
  },
  {
   "cell_type": "code",
   "execution_count": 7,
   "metadata": {},
   "outputs": [
    {
     "data": {
      "image/png": "[encoded data removed]",
      "text/plain": [
       "<matplotlib.figure.Figure at 0x111c18050>"
      ]
     },
     "metadata": {},
     "output_type": "display_data"
    }
   ],
   "source": [
    "# Plot the cumulative fraction of post-streak outcomes that are heads.\n",
    "# Theory predicts this to be 0.5.\n",
    "fig, ax = plt.subplots(1, 1, figsize=(9, 6))\n",
    "plt.plot(1.0 * np.cumsum(post_streak_outcomes) / \n",
    "         np.array(range(1, 1+len(post_streak_outcomes))))\n",
    "ax.axhline(0.5, color='r', linestyle='--')\n",
    "plt.ylim(0, 1)\n",
    "plt.xlim(0, len(post_streak_outcomes))\n",
    "plt.xlabel('Streak number')\n",
    "plt.ylabel('Fraction of streaks of length %d that end in heads' % S);"
   ]
  },
  {
   "cell_type": "code",
   "execution_count": 8,
   "metadata": {},
   "outputs": [
    {
     "data": {
      "text/plain": [
       "0.5029673590504451"
      ]
     },
     "execution_count": 8,
     "metadata": {},
     "output_type": "execute_result"
    }
   ],
   "source": [
    "# Finally, get the overall fraction of post-streak outcomes that were heads\n",
    "1.0*sum(post_streak_outcomes)/len(post_streak_outcomes)"
   ]
  },
  {
   "cell_type": "markdown",
   "metadata": {},
   "source": [
    "## TODO/FIXME\n",
    "\n",
    "Once I detect a streak and save the outcome of the flip immediately following that streak, should I *throw away* that streak and resume looking for subsequent streaks starting with the outcome? \n",
    "\n",
    "The way the code works now, I simply resume looking for streaks at the *second* element of the streak. Does this introduce bias? Long streaks of heads might artificially inflate the fraction of heads that terminate streaks of a fixed length. Then again, these long streaks of heads arise naturally from independent tosses of a fair coin, and in most cases, the above code seems to converge quite nicely on 0.5...\n",
    "\n",
    "As an example, let's say I'm looking for streaks of length 3 in this data:\n",
    "\n",
    "index:  0, 1, 2, 3, 4, 5, 6, 7, 8, 9\n",
    " data:  1, 1, 1, 1, 1, 1, 0, 0, 1, 1\n",
    "\n",
    "The current algorithm finds the following streak indexes: 0, 1, 2, 3. The post-streak outcomes are: 1, 1, 1, 0.\n",
    "\n",
    "If I \"threw out\" streaks after finding them, the only streak indexes I'd find are: 0, 3. The post-streak outcomes would then be: 1, 0."
   ]
  }
 ],
 "metadata": {
  "kernelspec": {
   "display_name": "Python 2",
   "language": "python",
   "name": "python2"
  },
  "language_info": {
   "codemirror_mode": {
    "name": "ipython",
    "version": 2
   },
   "file_extension": ".py",
   "mimetype": "text/x-python",
   "name": "python",
   "nbconvert_exporter": "python",
   "pygments_lexer": "ipython2",
   "version": "2.7.13"
  }
 },
 "nbformat": 4,
 "nbformat_minor": 2
}
