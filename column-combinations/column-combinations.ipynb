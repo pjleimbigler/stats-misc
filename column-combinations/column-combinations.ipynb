{
 "cells": [
  {
   "cell_type": "markdown",
   "metadata": {},
   "source": [
    "Consider two lists of unique elements. The first list contains 7 elements, and the second list contains 5. You now choose 1, 2, or 3 elements from each of these lists, *without replacement*, and then combine your choices. How many unique ways are there of choosing up to 3 elements from two independent lists?\n",
    "\n",
    "# Closed-form solution\n",
    "\n",
    "Choosing from the first list is independent of choosing from the second list. So let's count the total number of ways to pick 1, 2, or 3 elements from the first list, and multiply that by the number of ways to pick 1, 2, or 3 elements from the second list.\n",
    "\n",
    "The number of ways to choose k elements *without replacement* from a list of n elements where the order of your choice doesn't matter is given by the combination function, AKA the binomial coefficient, and is written \"n choose k\" or (n, k) or nCk. More info: http://mathworld.wolfram.com/Combination.html\n",
    "\n",
    "Wolfram Alpha says that our answer is **1575**:"
   ]
  },
  {
   "cell_type": "raw",
   "metadata": {},
   "source": [
    "https://www.wolframalpha.com/input/?i=((7+Choose+1)+%2B+(7+Choose+2)+%2B+(7+Choose+3))+*+((5+Choose+1)+%2B+(5+Choose+2)+%2B+(5+Choose+3))"
   ]
  },
  {
   "cell_type": "markdown",
   "metadata": {},
   "source": [
    "# Explicitly listing every combination\n",
    "\n",
    "Python's `itertools` module makes this pretty easy."
   ]
  },
  {
   "cell_type": "code",
   "execution_count": 1,
   "metadata": {},
   "outputs": [
    {
     "data": {
      "text/plain": [
       "['a', 'b', 'c', 'd', 'e', 'f', 'g']"
      ]
     },
     "execution_count": 1,
     "metadata": {},
     "output_type": "execute_result"
    }
   ],
   "source": [
    "# Build two example lists of length 7 and 5\n",
    "list1 = ['a', 'b', 'c', 'd', 'e', 'f', 'g']\n",
    "list1"
   ]
  },
  {
   "cell_type": "code",
   "execution_count": 2,
   "metadata": {},
   "outputs": [
    {
     "data": {
      "text/plain": [
       "[0, 1, 2, 3, 4]"
      ]
     },
     "execution_count": 2,
     "metadata": {},
     "output_type": "execute_result"
    }
   ],
   "source": [
    "list2 = range(5)\n",
    "list2"
   ]
  },
  {
   "cell_type": "code",
   "execution_count": 3,
   "metadata": {
    "collapsed": true
   },
   "outputs": [],
   "source": [
    "import itertools"
   ]
  },
  {
   "cell_type": "code",
   "execution_count": 4,
   "metadata": {},
   "outputs": [],
   "source": [
    "# Build a list of all possible ways to choose up to 3 elements from list 1\n",
    "all_combos_from_list1 = []\n",
    "for i in range(3):\n",
    "    all_combos_from_list1.extend(itertools.combinations(list1, i+1))"
   ]
  },
  {
   "cell_type": "code",
   "execution_count": 5,
   "metadata": {},
   "outputs": [
    {
     "data": {
      "text/plain": [
       "63"
      ]
     },
     "execution_count": 5,
     "metadata": {},
     "output_type": "execute_result"
    }
   ],
   "source": [
    "len(all_combos_from_list1)"
   ]
  },
  {
   "cell_type": "code",
   "execution_count": 6,
   "metadata": {},
   "outputs": [
    {
     "data": {
      "text/plain": [
       "[('a',),\n",
       " ('b',),\n",
       " ('c',),\n",
       " ('d',),\n",
       " ('e',),\n",
       " ('f',),\n",
       " ('g',),\n",
       " ('a', 'b'),\n",
       " ('a', 'c'),\n",
       " ('a', 'd'),\n",
       " ('a', 'e'),\n",
       " ('a', 'f'),\n",
       " ('a', 'g'),\n",
       " ('b', 'c'),\n",
       " ('b', 'd'),\n",
       " ('b', 'e'),\n",
       " ('b', 'f'),\n",
       " ('b', 'g'),\n",
       " ('c', 'd'),\n",
       " ('c', 'e'),\n",
       " ('c', 'f'),\n",
       " ('c', 'g'),\n",
       " ('d', 'e'),\n",
       " ('d', 'f'),\n",
       " ('d', 'g'),\n",
       " ('e', 'f'),\n",
       " ('e', 'g'),\n",
       " ('f', 'g'),\n",
       " ('a', 'b', 'c'),\n",
       " ('a', 'b', 'd'),\n",
       " ('a', 'b', 'e'),\n",
       " ('a', 'b', 'f'),\n",
       " ('a', 'b', 'g'),\n",
       " ('a', 'c', 'd'),\n",
       " ('a', 'c', 'e'),\n",
       " ('a', 'c', 'f'),\n",
       " ('a', 'c', 'g'),\n",
       " ('a', 'd', 'e'),\n",
       " ('a', 'd', 'f'),\n",
       " ('a', 'd', 'g'),\n",
       " ('a', 'e', 'f'),\n",
       " ('a', 'e', 'g'),\n",
       " ('a', 'f', 'g'),\n",
       " ('b', 'c', 'd'),\n",
       " ('b', 'c', 'e'),\n",
       " ('b', 'c', 'f'),\n",
       " ('b', 'c', 'g'),\n",
       " ('b', 'd', 'e'),\n",
       " ('b', 'd', 'f'),\n",
       " ('b', 'd', 'g'),\n",
       " ('b', 'e', 'f'),\n",
       " ('b', 'e', 'g'),\n",
       " ('b', 'f', 'g'),\n",
       " ('c', 'd', 'e'),\n",
       " ('c', 'd', 'f'),\n",
       " ('c', 'd', 'g'),\n",
       " ('c', 'e', 'f'),\n",
       " ('c', 'e', 'g'),\n",
       " ('c', 'f', 'g'),\n",
       " ('d', 'e', 'f'),\n",
       " ('d', 'e', 'g'),\n",
       " ('d', 'f', 'g'),\n",
       " ('e', 'f', 'g')]"
      ]
     },
     "execution_count": 6,
     "metadata": {},
     "output_type": "execute_result"
    }
   ],
   "source": [
    "all_combos_from_list1"
   ]
  },
  {
   "cell_type": "code",
   "execution_count": 7,
   "metadata": {
    "collapsed": true
   },
   "outputs": [],
   "source": [
    "# Build a list of all possible ways to choose up to 3 elements from list 2\n",
    "all_combos_from_list2 = []\n",
    "for i in range(3):\n",
    "    all_combos_from_list2.extend(itertools.combinations(list2, i+1))"
   ]
  },
  {
   "cell_type": "code",
   "execution_count": 8,
   "metadata": {},
   "outputs": [
    {
     "data": {
      "text/plain": [
       "25"
      ]
     },
     "execution_count": 8,
     "metadata": {},
     "output_type": "execute_result"
    }
   ],
   "source": [
    "len(all_combos_from_list2)"
   ]
  },
  {
   "cell_type": "code",
   "execution_count": 9,
   "metadata": {},
   "outputs": [
    {
     "data": {
      "text/plain": [
       "[(0,),\n",
       " (1,),\n",
       " (2,),\n",
       " (3,),\n",
       " (4,),\n",
       " (0, 1),\n",
       " (0, 2),\n",
       " (0, 3),\n",
       " (0, 4),\n",
       " (1, 2),\n",
       " (1, 3),\n",
       " (1, 4),\n",
       " (2, 3),\n",
       " (2, 4),\n",
       " (3, 4),\n",
       " (0, 1, 2),\n",
       " (0, 1, 3),\n",
       " (0, 1, 4),\n",
       " (0, 2, 3),\n",
       " (0, 2, 4),\n",
       " (0, 3, 4),\n",
       " (1, 2, 3),\n",
       " (1, 2, 4),\n",
       " (1, 3, 4),\n",
       " (2, 3, 4)]"
      ]
     },
     "execution_count": 9,
     "metadata": {},
     "output_type": "execute_result"
    }
   ],
   "source": [
    "all_combos_from_list2"
   ]
  },
  {
   "cell_type": "markdown",
   "metadata": {},
   "source": [
    "Reassuringly, the product of the lengths of these lists is **1575**:"
   ]
  },
  {
   "cell_type": "code",
   "execution_count": 10,
   "metadata": {},
   "outputs": [
    {
     "data": {
      "text/plain": [
       "1575"
      ]
     },
     "execution_count": 10,
     "metadata": {},
     "output_type": "execute_result"
    }
   ],
   "source": [
    "len(all_combos_from_list1) * len(all_combos_from_list2)"
   ]
  },
  {
   "cell_type": "markdown",
   "metadata": {},
   "source": [
    "Finally, we can build a list of every single combination:"
   ]
  },
  {
   "cell_type": "code",
   "execution_count": 11,
   "metadata": {
    "collapsed": true
   },
   "outputs": [],
   "source": [
    "all_combos = []\n",
    "for choice1 in all_combos_from_list1:\n",
    "    for choice2 in all_combos_from_list2:\n",
    "        all_combos.append([choice1, choice2])"
   ]
  },
  {
   "cell_type": "code",
   "execution_count": 12,
   "metadata": {},
   "outputs": [
    {
     "data": {
      "text/plain": [
       "1575"
      ]
     },
     "execution_count": 12,
     "metadata": {},
     "output_type": "execute_result"
    }
   ],
   "source": [
    "# Total number of combinations\n",
    "len(all_combos)"
   ]
  },
  {
   "cell_type": "markdown",
   "metadata": {},
   "source": [
    "As expected, the total number of combinations is **1575**."
   ]
  },
  {
   "cell_type": "code",
   "execution_count": 13,
   "metadata": {},
   "outputs": [
    {
     "data": {
      "text/plain": [
       "[[('a',), (0,)],\n",
       " [('a',), (1,)],\n",
       " [('a',), (2,)],\n",
       " [('a',), (3,)],\n",
       " [('a',), (4,)],\n",
       " [('a',), (0, 1)],\n",
       " [('a',), (0, 2)],\n",
       " [('a',), (0, 3)],\n",
       " [('a',), (0, 4)],\n",
       " [('a',), (1, 2)],\n",
       " [('a',), (1, 3)],\n",
       " [('a',), (1, 4)],\n",
       " [('a',), (2, 3)],\n",
       " [('a',), (2, 4)],\n",
       " [('a',), (3, 4)],\n",
       " [('a',), (0, 1, 2)],\n",
       " [('a',), (0, 1, 3)],\n",
       " [('a',), (0, 1, 4)],\n",
       " [('a',), (0, 2, 3)],\n",
       " [('a',), (0, 2, 4)],\n",
       " [('a',), (0, 3, 4)],\n",
       " [('a',), (1, 2, 3)],\n",
       " [('a',), (1, 2, 4)],\n",
       " [('a',), (1, 3, 4)],\n",
       " [('a',), (2, 3, 4)],\n",
       " [('b',), (0,)],\n",
       " [('b',), (1,)],\n",
       " [('b',), (2,)],\n",
       " [('b',), (3,)],\n",
       " [('b',), (4,)],\n",
       " [('b',), (0, 1)],\n",
       " [('b',), (0, 2)],\n",
       " [('b',), (0, 3)],\n",
       " [('b',), (0, 4)],\n",
       " [('b',), (1, 2)],\n",
       " [('b',), (1, 3)],\n",
       " [('b',), (1, 4)],\n",
       " [('b',), (2, 3)],\n",
       " [('b',), (2, 4)],\n",
       " [('b',), (3, 4)],\n",
       " [('b',), (0, 1, 2)],\n",
       " [('b',), (0, 1, 3)],\n",
       " [('b',), (0, 1, 4)],\n",
       " [('b',), (0, 2, 3)],\n",
       " [('b',), (0, 2, 4)],\n",
       " [('b',), (0, 3, 4)],\n",
       " [('b',), (1, 2, 3)],\n",
       " [('b',), (1, 2, 4)],\n",
       " [('b',), (1, 3, 4)],\n",
       " [('b',), (2, 3, 4)],\n",
       " [('c',), (0,)],\n",
       " [('c',), (1,)],\n",
       " [('c',), (2,)],\n",
       " [('c',), (3,)],\n",
       " [('c',), (4,)],\n",
       " [('c',), (0, 1)],\n",
       " [('c',), (0, 2)],\n",
       " [('c',), (0, 3)],\n",
       " [('c',), (0, 4)],\n",
       " [('c',), (1, 2)],\n",
       " [('c',), (1, 3)],\n",
       " [('c',), (1, 4)],\n",
       " [('c',), (2, 3)],\n",
       " [('c',), (2, 4)],\n",
       " [('c',), (3, 4)],\n",
       " [('c',), (0, 1, 2)],\n",
       " [('c',), (0, 1, 3)],\n",
       " [('c',), (0, 1, 4)],\n",
       " [('c',), (0, 2, 3)],\n",
       " [('c',), (0, 2, 4)],\n",
       " [('c',), (0, 3, 4)],\n",
       " [('c',), (1, 2, 3)],\n",
       " [('c',), (1, 2, 4)],\n",
       " [('c',), (1, 3, 4)],\n",
       " [('c',), (2, 3, 4)],\n",
       " [('d',), (0,)],\n",
       " [('d',), (1,)],\n",
       " [('d',), (2,)],\n",
       " [('d',), (3,)],\n",
       " [('d',), (4,)],\n",
       " [('d',), (0, 1)],\n",
       " [('d',), (0, 2)],\n",
       " [('d',), (0, 3)],\n",
       " [('d',), (0, 4)],\n",
       " [('d',), (1, 2)],\n",
       " [('d',), (1, 3)],\n",
       " [('d',), (1, 4)],\n",
       " [('d',), (2, 3)],\n",
       " [('d',), (2, 4)],\n",
       " [('d',), (3, 4)],\n",
       " [('d',), (0, 1, 2)],\n",
       " [('d',), (0, 1, 3)],\n",
       " [('d',), (0, 1, 4)],\n",
       " [('d',), (0, 2, 3)],\n",
       " [('d',), (0, 2, 4)],\n",
       " [('d',), (0, 3, 4)],\n",
       " [('d',), (1, 2, 3)],\n",
       " [('d',), (1, 2, 4)],\n",
       " [('d',), (1, 3, 4)],\n",
       " [('d',), (2, 3, 4)]]"
      ]
     },
     "execution_count": 13,
     "metadata": {},
     "output_type": "execute_result"
    }
   ],
   "source": [
    "# Sanity check: print the first 100 combinations\n",
    "all_combos[0:100]"
   ]
  },
  {
   "cell_type": "code",
   "execution_count": 14,
   "metadata": {},
   "outputs": [
    {
     "data": {
      "text/plain": [
       "[[('d', 'e', 'f'), (0,)],\n",
       " [('d', 'e', 'f'), (1,)],\n",
       " [('d', 'e', 'f'), (2,)],\n",
       " [('d', 'e', 'f'), (3,)],\n",
       " [('d', 'e', 'f'), (4,)],\n",
       " [('d', 'e', 'f'), (0, 1)],\n",
       " [('d', 'e', 'f'), (0, 2)],\n",
       " [('d', 'e', 'f'), (0, 3)],\n",
       " [('d', 'e', 'f'), (0, 4)],\n",
       " [('d', 'e', 'f'), (1, 2)],\n",
       " [('d', 'e', 'f'), (1, 3)],\n",
       " [('d', 'e', 'f'), (1, 4)],\n",
       " [('d', 'e', 'f'), (2, 3)],\n",
       " [('d', 'e', 'f'), (2, 4)],\n",
       " [('d', 'e', 'f'), (3, 4)],\n",
       " [('d', 'e', 'f'), (0, 1, 2)],\n",
       " [('d', 'e', 'f'), (0, 1, 3)],\n",
       " [('d', 'e', 'f'), (0, 1, 4)],\n",
       " [('d', 'e', 'f'), (0, 2, 3)],\n",
       " [('d', 'e', 'f'), (0, 2, 4)],\n",
       " [('d', 'e', 'f'), (0, 3, 4)],\n",
       " [('d', 'e', 'f'), (1, 2, 3)],\n",
       " [('d', 'e', 'f'), (1, 2, 4)],\n",
       " [('d', 'e', 'f'), (1, 3, 4)],\n",
       " [('d', 'e', 'f'), (2, 3, 4)],\n",
       " [('d', 'e', 'g'), (0,)],\n",
       " [('d', 'e', 'g'), (1,)],\n",
       " [('d', 'e', 'g'), (2,)],\n",
       " [('d', 'e', 'g'), (3,)],\n",
       " [('d', 'e', 'g'), (4,)],\n",
       " [('d', 'e', 'g'), (0, 1)],\n",
       " [('d', 'e', 'g'), (0, 2)],\n",
       " [('d', 'e', 'g'), (0, 3)],\n",
       " [('d', 'e', 'g'), (0, 4)],\n",
       " [('d', 'e', 'g'), (1, 2)],\n",
       " [('d', 'e', 'g'), (1, 3)],\n",
       " [('d', 'e', 'g'), (1, 4)],\n",
       " [('d', 'e', 'g'), (2, 3)],\n",
       " [('d', 'e', 'g'), (2, 4)],\n",
       " [('d', 'e', 'g'), (3, 4)],\n",
       " [('d', 'e', 'g'), (0, 1, 2)],\n",
       " [('d', 'e', 'g'), (0, 1, 3)],\n",
       " [('d', 'e', 'g'), (0, 1, 4)],\n",
       " [('d', 'e', 'g'), (0, 2, 3)],\n",
       " [('d', 'e', 'g'), (0, 2, 4)],\n",
       " [('d', 'e', 'g'), (0, 3, 4)],\n",
       " [('d', 'e', 'g'), (1, 2, 3)],\n",
       " [('d', 'e', 'g'), (1, 2, 4)],\n",
       " [('d', 'e', 'g'), (1, 3, 4)],\n",
       " [('d', 'e', 'g'), (2, 3, 4)],\n",
       " [('d', 'f', 'g'), (0,)],\n",
       " [('d', 'f', 'g'), (1,)],\n",
       " [('d', 'f', 'g'), (2,)],\n",
       " [('d', 'f', 'g'), (3,)],\n",
       " [('d', 'f', 'g'), (4,)],\n",
       " [('d', 'f', 'g'), (0, 1)],\n",
       " [('d', 'f', 'g'), (0, 2)],\n",
       " [('d', 'f', 'g'), (0, 3)],\n",
       " [('d', 'f', 'g'), (0, 4)],\n",
       " [('d', 'f', 'g'), (1, 2)],\n",
       " [('d', 'f', 'g'), (1, 3)],\n",
       " [('d', 'f', 'g'), (1, 4)],\n",
       " [('d', 'f', 'g'), (2, 3)],\n",
       " [('d', 'f', 'g'), (2, 4)],\n",
       " [('d', 'f', 'g'), (3, 4)],\n",
       " [('d', 'f', 'g'), (0, 1, 2)],\n",
       " [('d', 'f', 'g'), (0, 1, 3)],\n",
       " [('d', 'f', 'g'), (0, 1, 4)],\n",
       " [('d', 'f', 'g'), (0, 2, 3)],\n",
       " [('d', 'f', 'g'), (0, 2, 4)],\n",
       " [('d', 'f', 'g'), (0, 3, 4)],\n",
       " [('d', 'f', 'g'), (1, 2, 3)],\n",
       " [('d', 'f', 'g'), (1, 2, 4)],\n",
       " [('d', 'f', 'g'), (1, 3, 4)],\n",
       " [('d', 'f', 'g'), (2, 3, 4)],\n",
       " [('e', 'f', 'g'), (0,)],\n",
       " [('e', 'f', 'g'), (1,)],\n",
       " [('e', 'f', 'g'), (2,)],\n",
       " [('e', 'f', 'g'), (3,)],\n",
       " [('e', 'f', 'g'), (4,)],\n",
       " [('e', 'f', 'g'), (0, 1)],\n",
       " [('e', 'f', 'g'), (0, 2)],\n",
       " [('e', 'f', 'g'), (0, 3)],\n",
       " [('e', 'f', 'g'), (0, 4)],\n",
       " [('e', 'f', 'g'), (1, 2)],\n",
       " [('e', 'f', 'g'), (1, 3)],\n",
       " [('e', 'f', 'g'), (1, 4)],\n",
       " [('e', 'f', 'g'), (2, 3)],\n",
       " [('e', 'f', 'g'), (2, 4)],\n",
       " [('e', 'f', 'g'), (3, 4)],\n",
       " [('e', 'f', 'g'), (0, 1, 2)],\n",
       " [('e', 'f', 'g'), (0, 1, 3)],\n",
       " [('e', 'f', 'g'), (0, 1, 4)],\n",
       " [('e', 'f', 'g'), (0, 2, 3)],\n",
       " [('e', 'f', 'g'), (0, 2, 4)],\n",
       " [('e', 'f', 'g'), (0, 3, 4)],\n",
       " [('e', 'f', 'g'), (1, 2, 3)],\n",
       " [('e', 'f', 'g'), (1, 2, 4)],\n",
       " [('e', 'f', 'g'), (1, 3, 4)],\n",
       " [('e', 'f', 'g'), (2, 3, 4)]]"
      ]
     },
     "execution_count": 14,
     "metadata": {},
     "output_type": "execute_result"
    }
   ],
   "source": [
    "# Sanity check: print the last 100 combinations\n",
    "all_combos[-100:]"
   ]
  }
 ],
 "metadata": {
  "kernelspec": {
   "display_name": "Python 2",
   "language": "python",
   "name": "python2"
  },
  "language_info": {
   "codemirror_mode": {
    "name": "ipython",
    "version": 2
   },
   "file_extension": ".py",
   "mimetype": "text/x-python",
   "name": "python",
   "nbconvert_exporter": "python",
   "pygments_lexer": "ipython2",
   "version": "2.7.13"
  }
 },
 "nbformat": 4,
 "nbformat_minor": 2
}
